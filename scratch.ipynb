{
 "cells": [
  {
   "cell_type": "code",
   "execution_count": 1,
   "metadata": {},
   "outputs": [],
   "source": [
    "%matplotlib notebook \n",
    "import scipy.stats as stats\n",
    "import numpy as np\n",
    "import matplotlib.pyplot as plt\n",
    "from mpl_toolkits.mplot3d import Axes3D\n",
    "import matplotlib.cm as cm\n",
    "from scipy import integrate\n",
    "import glob,sys\n",
    "\n",
    "from mpl_toolkits.basemap import Basemap, shiftgrid\n",
    "\n",
    "import MV2 as MV\n",
    "import cdms2 as cdms\n",
    "import genutil\n",
    "import cdutil\n",
    "import cdtime\n",
    "\n",
    "sys.path.append(\"/Users/kmarvel/Google Drive/python-utils\")\n",
    "import Plotting\n",
    "\n",
    "\n",
    "def bmap(X,projection=\"moll\",**kwargs):\n",
    "    \"\"\" quick plot of data on a lat,lon grid \"\"\"\n",
    "   # lon = X.getLongitude()[:]\n",
    "    #lat = X.getLatitude()[:]\n",
    "    \n",
    "    lon = X.getLongitude().getBounds()[:,0]\n",
    "    lat = X.getLatitude().getBounds()[:,0]\n",
    "    vmin=None\n",
    "    vmax=None\n",
    "    if \"vmin\" in kwargs.keys():\n",
    "        vmin=kwargs.pop(\"vmin\")\n",
    "    if \"vmax\" in kwargs.keys():\n",
    "        vmax=kwargs.pop(\"vmax\")\n",
    "    if not (\"lon_0\" in list(kwargs.keys())):\n",
    "        lon_0=np.median(lon)\n",
    "    else:\n",
    "        lon_0=kwargs.pop(\"lon_0\")\n",
    "        X,lon = shiftgrid(180,X,lon,start=False)\n",
    "    m = Basemap(lon_0=lon_0,projection=projection,**kwargs)\n",
    "    \n",
    "        \n",
    "    x,y=m(*np.meshgrid(lon,lat))\n",
    "    #if vmin is None:\n",
    "    #m.pcolormesh(x,y,X,**kwargs)\n",
    "    #else:\n",
    "    m.pcolor(x,y,X,vmin=vmin,vmax=vmax)\n",
    "    return m\n",
    "\n",
    "surface = {\"hfls\": \"Surface Upward Latent Heat Flux\",\\\n",
    "            \"hfss\": \"Surface Upward Sensible Heat Flux\",\\\n",
    "            \"rlds\":\"Surface Downwelling Longwave Radiation\",\\\n",
    "            \"rlus\":\"Surface Upwelling Longwave Radiation\",\\\n",
    "            \"rsds\":\"Surface Downwelling Shortwave Radiation\",\\\n",
    "            \"rsus\": \"Surface Upwelling Shortwave Radiation\"}\n",
    "TOA = {\"rsdt\":\"TOA Incident Shortwave Radiation\",\\\n",
    "       \"rsut\": \"TOA Outgoing Shortwave Radiation\",\\\n",
    "       \"rlut\": \"TOA Outgoing Longwave Radiation\"}\n",
    "datadirec=\"/Users/kmarvel/Documents/DATA/LGM/LGM-Adjustments/ipsl-glac1d/\""
   ]
  },
  {
   "cell_type": "code",
   "execution_count": 3,
   "metadata": {},
   "outputs": [
    {
     "data": {
      "text/plain": [
       "[]"
      ]
     },
     "execution_count": 3,
     "metadata": {},
     "output_type": "execute_result"
    }
   ],
   "source": [
    "glob.glob(datadirec+\"*\")"
   ]
  },
  {
   "cell_type": "code",
   "execution_count": 2,
   "metadata": {},
   "outputs": [
    {
     "ename": "IndexError",
     "evalue": "list index out of range",
     "output_type": "error",
     "traceback": [
      "\u001b[0;31m---------------------------------------------------------------------------\u001b[0m",
      "\u001b[0;31mIndexError\u001b[0m                                Traceback (most recent call last)",
      "\u001b[0;32m<ipython-input-2-df6439bd1929>\u001b[0m in \u001b[0;36m<module>\u001b[0;34m\u001b[0m\n\u001b[0;32m----> 1\u001b[0;31m \u001b[0mf\u001b[0m\u001b[0;34m=\u001b[0m\u001b[0mcdms\u001b[0m\u001b[0;34m.\u001b[0m\u001b[0mopen\u001b[0m\u001b[0;34m(\u001b[0m\u001b[0mglob\u001b[0m\u001b[0;34m.\u001b[0m\u001b[0mglob\u001b[0m\u001b[0;34m(\u001b[0m\u001b[0mdatadirec\u001b[0m\u001b[0;34m+\u001b[0m\u001b[0;34m\"rsdt_*\"\u001b[0m\u001b[0;34m)\u001b[0m\u001b[0;34m[\u001b[0m\u001b[0;36m0\u001b[0m\u001b[0;34m]\u001b[0m\u001b[0;34m)\u001b[0m\u001b[0;34m\u001b[0m\u001b[0;34m\u001b[0m\u001b[0m\n\u001b[0m\u001b[1;32m      2\u001b[0m \u001b[0;34m\u001b[0m\u001b[0m\n\u001b[1;32m      3\u001b[0m \u001b[0mrsdt\u001b[0m\u001b[0;34m=\u001b[0m\u001b[0mf\u001b[0m\u001b[0;34m(\u001b[0m\u001b[0;34m\"rsdt\"\u001b[0m\u001b[0;34m)\u001b[0m\u001b[0;34m\u001b[0m\u001b[0;34m\u001b[0m\u001b[0m\n\u001b[1;32m      4\u001b[0m \u001b[0;34m\u001b[0m\u001b[0m\n\u001b[1;32m      5\u001b[0m \u001b[0mf\u001b[0m\u001b[0;34m.\u001b[0m\u001b[0mclose\u001b[0m\u001b[0;34m(\u001b[0m\u001b[0;34m)\u001b[0m\u001b[0;34m\u001b[0m\u001b[0;34m\u001b[0m\u001b[0m\n",
      "\u001b[0;31mIndexError\u001b[0m: list index out of range"
     ]
    }
   ],
   "source": [
    "f=cdms.open(glob.glob(datadirec+\"rsdt_*\")[0])\n",
    "\n",
    "rsdt=f(\"rsdt\")\n",
    "\n",
    "f.close()\n",
    "\n",
    "f=cdms.open(glob.glob(datadirec+\"rsut_*\")[0])\n",
    "\n",
    "rsut=f(\"rsut\")\n",
    "\n",
    "f.close()\n",
    "\n",
    "f=cdms.open(glob.glob(datadirec+\"rlut_*\")[0])\n",
    "\n",
    "rlut=f(\"rlut\")\n",
    "\n",
    "f.close()\n",
    "\n",
    "TOA = rsdt-(rsut+rlut)\n",
    "\n",
    "print(\"TOA imbalance is \", MV.average(cdutil.averager(TOA,axis='xy')))\n",
    "\n",
    "f=cdms.open(glob.glob(datadirec+\"ts_*\")[0])\n",
    "\n",
    "ts=f(\"ts\")\n",
    "\n",
    "f.close()"
   ]
  },
  {
   "cell_type": "code",
   "execution_count": null,
   "metadata": {},
   "outputs": [],
   "source": []
  }
 ],
 "metadata": {
  "kernelspec": {
   "display_name": "Python 3",
   "language": "python",
   "name": "python3"
  },
  "language_info": {
   "codemirror_mode": {
    "name": "ipython",
    "version": 3
   },
   "file_extension": ".py",
   "mimetype": "text/x-python",
   "name": "python",
   "nbconvert_exporter": "python",
   "pygments_lexer": "ipython3",
   "version": "3.6.7"
  }
 },
 "nbformat": 4,
 "nbformat_minor": 2
}
