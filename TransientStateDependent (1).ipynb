{
 "cells": [
  {
   "cell_type": "code",
   "execution_count": 1,
   "metadata": {
    "collapsed": true
   },
   "outputs": [],
   "source": [
    "import numpy as np\n",
    "import matplotlib.pyplot as plt\n",
    "%matplotlib inline  "
   ]
  },
  {
   "cell_type": "code",
   "execution_count": 8,
   "metadata": {},
   "outputs": [],
   "source": [
    "class BoxModel():\n",
    "    def __init__(self,epsilon,eta=2.04,lambda_eq=-1.27):\n",
    "        F=3.8\n",
    "        C=12\n",
    "        CD=244\n",
    "\n",
    "        b1=(lambda_eq-epsilon*eta)/C\n",
    "        b2=(epsilon*eta)/C\n",
    "\n",
    "        b3=eta/CD\n",
    "        b4=-eta/CD\n",
    "\n",
    "        alpha_f=(b1+b4)/2*(1+np.sqrt(1-4*(b1*b4-b2*b3)/(b1+b4)**2))\n",
    "        alpha_s=(b1+b4)/2*(1-np.sqrt(1-4*(b1*b4-b2*b3)/(b1+b4)**2))\n",
    "\n",
    "        tau_f=-1/alpha_f\n",
    "        tau_s=-1/alpha_s\n",
    "\n",
    "        xi_f=(alpha_f-b1)/b2\n",
    "        xi_s=(alpha_s-b1)/b2\n",
    "\n",
    "        psi_f=(F/lambda_eq *(1-xi_s))/(xi_f-xi_s)\n",
    "        psi_s=(F/lambda_eq*(1-xi_f))/(xi_s-xi_f)\n",
    "\n",
    "        t=np.arange(0,1000,.2)\n",
    "        T=F/(-lambda_eq ) + psi_f*np.exp(-t/tau_f) + psi_s*np.exp(-t/tau_s)\n",
    "        TD=F/(-lambda_eq ) + xi_f*psi_f*np.exp(-t/tau_f) + xi_s*psi_s*np.exp(-t/tau_s)\n",
    "        \n",
    "        self.T=T\n",
    "        self.TD=TD\n",
    "        self.t=t\n",
    "        self.lambda_eq=lambda_eq\n",
    "        self.epsilon=epsilon\n",
    "        self.eta=eta\n",
    "        self.F=F\n",
    "        self.N = F + lambda_eq*T-(self.epsilon-1)*self.eta*(T-TD)\n",
    "        self.lambda_inferred= (self.N-self.F)/self.T\n",
    "    \n"
   ]
  },
  {
   "cell_type": "code",
   "execution_count": 10,
   "metadata": {},
   "outputs": [
    {
     "name": "stderr",
     "output_type": "stream",
     "text": [
      "/Users/kmarvel/anaconda/lib/python2.7/site-packages/ipykernel/__main__.py:37: RuntimeWarning: invalid value encountered in divide\n",
      "/Users/kmarvel/anaconda/lib/python2.7/site-packages/ipykernel/__main__.py:37: RuntimeWarning: divide by zero encountered in divide\n"
     ]
    }
   ],
   "source": [
    "unit_efficacy=BoxModel(1)\n",
    "high_efficacy=BoxModel(2)\n",
    "low_efficacy=BoxModel(.5)"
   ]
  },
  {
   "cell_type": "code",
   "execution_count": 14,
   "metadata": {},
   "outputs": [
    {
     "data": {
      "text/plain": [
       "[<matplotlib.lines.Line2D at 0x119431ed0>]"
      ]
     },
     "execution_count": 14,
     "metadata": {},
     "output_type": "execute_result"
    },
    {
     "data": {
      "image/png": "[encoded data removed]",
      "text/plain": [
       "<matplotlib.figure.Figure at 0x1197fda50>"
      ]
     },
     "metadata": {},
     "output_type": "display_data"
    }
   ],
   "source": [
    "t=unit_efficacy.t\n",
    "plt.plot(t,unit_efficacy.lambda_eq/unit_efficacy.lambda_inferred)\n",
    "plt.plot(t,high_efficacy.lambda_eq/high_efficacy.lambda_inferred)\n",
    "plt.plot(t,low_efficacy.lambda_eq/low_efficacy.lambda_inferred)"
   ]
  },
  {
   "cell_type": "code",
   "execution_count": null,
   "metadata": {
    "collapsed": true
   },
   "outputs": [],
   "source": []
  }
 ],
 "metadata": {
  "kernelspec": {
   "display_name": "Python 3",
   "language": "python",
   "name": "python3"
  },
  "language_info": {
   "codemirror_mode": {
    "name": "ipython",
    "version": 3
   },
   "file_extension": ".py",
   "mimetype": "text/x-python",
   "name": "python",
   "nbconvert_exporter": "python",
   "pygments_lexer": "ipython3",
   "version": "3.6.7"
  }
 },
 "nbformat": 4,
 "nbformat_minor": 2
}
